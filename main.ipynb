{
 "cells": [
  {
   "cell_type": "markdown",
   "metadata": {},
   "source": [
    "# Fallstudie Tablet GmbH\n",
    "\n",
    "Finale Datei zur Abgabe am Ende des Projektes </br>\n"
   ]
  },
  {
   "cell_type": "code",
   "execution_count": 2,
   "metadata": {},
   "outputs": [],
   "source": [
    "import pandas as pd\n",
    "import numpy as np\n",
    "import seaborn as sns\n",
    "import statsmodels.formula.api as smf\n",
    "import matplotlib.pyplot as plt\n",
    "import matplotlib.dates as mdates\n",
    "import matplotlib.ticker as ticker\n",
    "import matplotlib.lines as mlines\n",
    "import locale"
   ]
  },
  {
   "cell_type": "markdown",
   "metadata": {},
   "source": [
    "## Datenaufbereitung\n",
    "\n",
    "Der erste Schritt ist die Aufarbeitung der Datengrundlage, um eine Konsistente Nutzung dieser sicherzustellen. Hierzu werden folgende Punkte betrachtet:\n",
    "<ul>\n",
    "    <li>\n",
    "        Spaltennamen konsistent\n",
    "        <ul>\n",
    "            <li>Englisch</li>\n",
    "            <li>klein geschrieben</li>\n",
    "            <li>keine Leerzeichen</li>\n",
    "            <li>gleiches Prinzip bei Bezeichnung der Spalten (Snakecase)</li>\n",
    "        </ul>\n",
    "    </li>\n",
    "    <li>Zum Wert passende Datentypen</li>\n",
    "    <li>Hinzufügen weiterer Spalten</li>\n",
    "    <li>Zusammenfügen von Daten verschiedener Tabellen</li>\n",
    "</ul>"
   ]
  },
  {
   "cell_type": "markdown",
   "metadata": {},
   "source": [
    "Für die Tabelle mit den Preisen müssen die Spaltennamen angepasst werden. Außerdem müssen die Werte der Jahresspalte bereinigt und der Datentyp angepasst werden."
   ]
  },
  {
   "cell_type": "code",
   "execution_count": 3,
   "metadata": {},
   "outputs": [],
   "source": [
    "df_price = (\n",
    "    pd.read_excel(\"./data/Preise.xlsx\") #./../../data/Preise.xlsx   - Pfad für Sandbox\n",
    "        .rename(columns={\"Jahr\": \"year\",\n",
    "                         \"preis\": \"price\"})\n",
    "        .assign(year=lambda _data: pd.to_numeric(_data[\"year\"].str.strip('\"')))\n",
    "        .replace([20022, \"Tablet Basics\"],[2022, \"Tablet Basic\"])\n",
    ")"
   ]
  },
  {
   "cell_type": "markdown",
   "metadata": {},
   "source": [
    "In der Downtime Tabelle müssen nur die Spaltennamen angepasst werden."
   ]
  },
  {
   "cell_type": "code",
   "execution_count": 4,
   "metadata": {},
   "outputs": [],
   "source": [
    "df_dt = (\n",
    "    pd.read_excel(\"./data/Downtime.xlsx\")\n",
    "        .rename(columns={\"Unnamed: 0\": \"year\",\n",
    "                         \"Region A\": \"a\",\n",
    "                         \"Region B\": \"b\",\n",
    "                         \"Region C\": \"c\",\n",
    "                         \"Region D\": \"d\"})\n",
    ")"
   ]
  },
  {
   "cell_type": "markdown",
   "metadata": {},
   "source": [
    "In der Kundendaten Tabelle müssen auch nur die Spaltennamen angepasst werden. Eine Prüfung hat ergeben, dass es in dieser Tabelle keine Duplikate und keine Null Werte gibt."
   ]
  },
  {
   "cell_type": "code",
   "execution_count": 5,
   "metadata": {},
   "outputs": [],
   "source": [
    "df_crm = (\n",
    "    pd.read_excel(\"./data/CRM_data.xlsx\")\n",
    "        .rename(columns={\"id\": \"transaction_id\",\n",
    "                         \"vorname\": \"firstname\",\n",
    "                         \"nachname\": \"lastname\"})\n",
    ")"
   ]
  },
  {
   "cell_type": "markdown",
   "metadata": {},
   "source": [
    "Bei den Tabellen mit den Transaktionsdaten können wir bei allen Tabellen gleich vorgehen. Daher macht es hier Sinn eine Funktion für die Aufarbeitung zu schreiben und diese für jede Datei aufzurufen. Hierbei müssen zunächst die Spaltennamen angepasst werden. Danach werden neue Spalten für das Jahr, den Monat und die Woche hinzugefügt, um bei der Analyse eine einfachere Einteilung in Zeitabschnitte zu bieten. Außerdem werden die Werte der Kosten auf zwei Nachkommastellen gerundet und es wird eine neue Spalte, welche immer die Kosten enthält, hinzugefügt. Danach werden noch Spalten wíe die Gesamtkosten der Transaktion, Umsatz und Gewinn hinzugefügt. Außerdem werden der geltende Preis für das Produkt und die Kundenbewertung der Transaktion der Tabelle hinzugefügt. </br>\n",
    "Außerdem erstellen wir am Ende noch einen Dataframe in dem alle Regionen und Marktplätze zusammengefasst sind, um das ganze folgend zu untersuchen. Dazu werden den einzelnen Regionsdataframes noch Spalten für die Region und den Marktplatz hinzugefügt."
   ]
  },
  {
   "cell_type": "code",
   "execution_count": 15,
   "metadata": {},
   "outputs": [],
   "source": [
    "def read_regio_data(region, kind): \n",
    "    return (pd.read_excel(f\"./data/Region{region}_{kind}.xlsx\")\n",
    "                .rename(columns={\"Tablet Basic\": \"basic\",\n",
    "                                \"Tablet Mini\": \"mini\",\n",
    "                                \"Tablet Pro\": \"pro\",\n",
    "                                \"kosten_mini\": \"cost_mini\",\n",
    "                                \"kosten_basic\": \"cost_basic\",\n",
    "                                \"kosten_pro\": \"cost_pro\",\n",
    "                                \"PRODUKT\": \"product\"})\n",
    "                .assign(year=lambda _data: _data[\"date\"].dt.year,\n",
    "                        month=lambda _data: _data[\"date\"].dt.month,\n",
    "                        week=lambda _data: _data[\"date\"].dt.isocalendar().week,\n",
    "                        year_month=lambda _data: _data[\"date\"].dt.year.astype(str) + \"_\" + _data[\"date\"].dt.month.astype(str),\n",
    "                        cost_basic=lambda _data: np.round(_data[\"cost_basic\"], 2),\n",
    "                        cost_mini=lambda _data: np.round(_data[\"cost_mini\"], 2),\n",
    "                        cost_pro=lambda _data: np.round(_data[\"cost_pro\"], 2),\n",
    "                        cost_per_unit=lambda _data: _data[\"cost_basic\"].fillna(0) + _data[\"cost_mini\"].fillna(0) + _data[\"cost_pro\"].fillna(0),\n",
    "                        cost=lambda _data: _data[\"cost_per_unit\"] * _data[\"amount\"]\n",
    "                        )\n",
    "                .merge(df_price, on=[\"year\", \"product\"])\n",
    "                .assign(revenue=lambda _data: _data[\"price\"] * _data[\"amount\"],\n",
    "                        profit_per_unit=lambda _data: _data[\"price\"] - _data[\"cost_per_unit\"],\n",
    "                        profit=lambda _data: _data[\"profit_per_unit\"] * _data[\"amount\"])\n",
    "                .merge(df_crm[[\"customer_rating\", \"transaction_id\"]], on=\"transaction_id\")\n",
    "                .assign(region = region,\n",
    "                        marketplace = kind))\n",
    "\n",
    "dataframes = [\n",
    "    (df_regAo, 'A', 'online'),\n",
    "    (df_regAp, 'A', 'phone'),\n",
    "    (df_regAs, 'A', 'store'),\n",
    "    (df_regBo, 'B', 'online'),\n",
    "    (df_regBp, 'B', 'phone'),\n",
    "    (df_regBs, 'B', 'store'),\n",
    "    (df_regCo, 'C', 'online'),\n",
    "    (df_regCp, 'C', 'phone'),\n",
    "    (df_regCs, 'C', 'store'),\n",
    "    (df_regDo, 'D', 'online'),\n",
    "    (df_regDp, 'D', 'phone'),\n",
    "    (df_regDs, 'D', 'store')\n",
    "]\n",
    "\n",
    "for df_reg, region, marketplace in dataframes:\n",
    "    df_reg = read_regio_data(region,marketplace)\n",
    "\n",
    "\n",
    "\n",
    "df_reg_main = pd.concat([df for df, _, _ in dataframes], ignore_index=True)"
   ]
  }
 ],
 "metadata": {
  "kernelspec": {
   "display_name": "Python 3",
   "language": "python",
   "name": "python3"
  },
  "language_info": {
   "codemirror_mode": {
    "name": "ipython",
    "version": 3
   },
   "file_extension": ".py",
   "mimetype": "text/x-python",
   "name": "python",
   "nbconvert_exporter": "python",
   "pygments_lexer": "ipython3",
   "version": "3.10.11"
  }
 },
 "nbformat": 4,
 "nbformat_minor": 2
}
