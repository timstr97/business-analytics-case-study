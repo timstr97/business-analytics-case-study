{
 "cells": [
  {
   "cell_type": "markdown",
   "metadata": {},
   "source": [
    "# Fallstudie Tablet GmbH\n",
    "\n",
    "Finale Datei zur Abgabe am Ende des Projektes"
   ]
  }
 ],
 "metadata": {
  "language_info": {
   "name": "python"
  }
 },
 "nbformat": 4,
 "nbformat_minor": 2
}
