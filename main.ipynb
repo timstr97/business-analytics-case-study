{
 "cells": [
  {
   "cell_type": "markdown",
   "metadata": {},
   "source": [
    "# Fallstudie Tablet GmbH\n",
    "\n",
    "Finale Datei zur Abgabe am Ende des Projektes </br>\n"
   ]
  },
  {
   "cell_type": "code",
   "execution_count": 1,
   "metadata": {},
   "outputs": [],
   "source": [
    "import pandas as pd"
   ]
  },
  {
   "cell_type": "markdown",
   "metadata": {},
   "source": [
    "### Datenaufbereitung\n",
    "\n",
    "Der erste Schritt ist die Aufarbeitung der Datengrundlage, um eine Konsistente Nutzung dieser sicherzustellen. Hierzu werden folgende Punkte betrachtet:\n",
    "<ul>\n",
    "    <li>\n",
    "        Spaltennamen konsistent\n",
    "        <ul>\n",
    "            <li>Englisch</li>\n",
    "            <li>klein geschrieben</li>\n",
    "            <li>keine Leerzeichen</li>\n",
    "            <li>gleiches Prinzip bei Bezeichnung</li>\n",
    "        </ul>\n",
    "    </li>\n",
    "    <li>Zum Wert passende Datentypen</li>\n",
    "    <li>Hinzufügen weiterer Spalten</li>\n",
    "    <li>Zusammenfügen von Daten verschiedener Tabellen</li>\n",
    "</ul>"
   ]
  },
  {
   "cell_type": "markdown",
   "metadata": {},
   "source": [
    "Für die Tabelle mit den Preisen müssen die Spaltennamen angepasst werden. Außerdem müssen die Werte der Jahresspalte bereinigt und der Datentyp angepasst werden."
   ]
  },
  {
   "cell_type": "code",
   "execution_count": 3,
   "metadata": {},
   "outputs": [],
   "source": [
    "df_preis = (\n",
    "    pd.read_excel(\"./data/Preise.xlsx\") #./../../data/Preise.xlsx   - Pfad für Sandbox\n",
    "        .rename(columns={\"Jahr\": \"year\",\n",
    "                         \"preis\": \"price\"})\n",
    "        .assign(year=lambda _data: pd.to_numeric(_data[\"year\"].str.strip('\"')))\n",
    "        .replace([20022, \"Tablet Basics\"],[2022, \"Tablet Basic\"])\n",
    ")"
   ]
  },
  {
   "cell_type": "markdown",
   "metadata": {},
   "source": [
    "In der Downtime Tabelle müssen nur die Spaltennamen angepasst werden."
   ]
  },
  {
   "cell_type": "code",
   "execution_count": 5,
   "metadata": {},
   "outputs": [],
   "source": [
    "df_dt = (\n",
    "    pd.read_excel(\"./data/Downtime.xlsx\")\n",
    "        .rename(columns={\"Unnamed: 0\": \"year\",\n",
    "                         \"Region A\": \"a\",\n",
    "                         \"Region B\": \"b\",\n",
    "                         \"Region C\": \"c\",\n",
    "                         \"Region D\": \"d\"})\n",
    ")"
   ]
  },
  {
   "cell_type": "markdown",
   "metadata": {},
   "source": [
    "In der Kundendaten Tabelle müssen auch nur die Spaltennamen angepasst werden. Eine Prüfung hat ergeben, dass es in dieser Tabelle keine Duplikate und keine Null Werte gibt."
   ]
  },
  {
   "cell_type": "code",
   "execution_count": 7,
   "metadata": {},
   "outputs": [],
   "source": [
    "df_crm = (\n",
    "    pd.read_excel(\"./data/CRM_data.xlsx\")\n",
    "        .rename(columns={\"vorname\": \"firstname\",\n",
    "                         \"nachname\": \"lastname\"})\n",
    ")"
   ]
  },
  {
   "cell_type": "markdown",
   "metadata": {},
   "source": [
    "Bei den Tabellen mit den Transaktionsdaten können wir bei allen Tabellen gleich vorgehen. Daher macht es hier Sinn eine Funktion für die Aufarbeitung zu schreiben und diese für jede Datei aufzurufen."
   ]
  },
  {
   "cell_type": "code",
   "execution_count": null,
   "metadata": {},
   "outputs": [],
   "source": []
  }
 ],
 "metadata": {
  "kernelspec": {
   "display_name": "Python 3",
   "language": "python",
   "name": "python3"
  },
  "language_info": {
   "codemirror_mode": {
    "name": "ipython",
    "version": 3
   },
   "file_extension": ".py",
   "mimetype": "text/x-python",
   "name": "python",
   "nbconvert_exporter": "python",
   "pygments_lexer": "ipython3",
   "version": "3.10.11"
  }
 },
 "nbformat": 4,
 "nbformat_minor": 2
}
