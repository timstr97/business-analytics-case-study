{
 "cells": [
  {
   "cell_type": "code",
   "execution_count": 2,
   "metadata": {},
   "outputs": [],
   "source": [
    "import pandas as pd\n",
    "\n",
    "df = pd.read_excel(\"./../../data/CRM_data.xlsx\")"
   ]
  },
  {
   "cell_type": "code",
   "execution_count": 3,
   "metadata": {},
   "outputs": [
    {
     "data": {
      "text/html": [
       "<div>\n",
       "<style scoped>\n",
       "    .dataframe tbody tr th:only-of-type {\n",
       "        vertical-align: middle;\n",
       "    }\n",
       "\n",
       "    .dataframe tbody tr th {\n",
       "        vertical-align: top;\n",
       "    }\n",
       "\n",
       "    .dataframe thead th {\n",
       "        text-align: right;\n",
       "    }\n",
       "</style>\n",
       "<table border=\"1\" class=\"dataframe\">\n",
       "  <thead>\n",
       "    <tr style=\"text-align: right;\">\n",
       "      <th></th>\n",
       "      <th>id</th>\n",
       "      <th>vorname</th>\n",
       "      <th>nachname</th>\n",
       "      <th>iban</th>\n",
       "      <th>email</th>\n",
       "      <th>customer_rating</th>\n",
       "    </tr>\n",
       "  </thead>\n",
       "  <tbody>\n",
       "    <tr>\n",
       "      <th>0</th>\n",
       "      <td>0</td>\n",
       "      <td>Curt</td>\n",
       "      <td>Roskoth</td>\n",
       "      <td>DE29557982464763273025</td>\n",
       "      <td>curt.roskoth@gmx.de</td>\n",
       "      <td>7.2</td>\n",
       "    </tr>\n",
       "    <tr>\n",
       "      <th>1</th>\n",
       "      <td>1</td>\n",
       "      <td>Till</td>\n",
       "      <td>Klingelhöfer</td>\n",
       "      <td>DE36890407044640624074</td>\n",
       "      <td>till.klingelhöfer@gmail.com</td>\n",
       "      <td>8.4</td>\n",
       "    </tr>\n",
       "    <tr>\n",
       "      <th>2</th>\n",
       "      <td>2</td>\n",
       "      <td>Dora</td>\n",
       "      <td>Winkler</td>\n",
       "      <td>DE26144834913572865717</td>\n",
       "      <td>dora.winkler@web.de</td>\n",
       "      <td>6.7</td>\n",
       "    </tr>\n",
       "    <tr>\n",
       "      <th>3</th>\n",
       "      <td>3</td>\n",
       "      <td>Tom</td>\n",
       "      <td>Krause</td>\n",
       "      <td>DE16352804742225738584</td>\n",
       "      <td>tom.krause@aol.de</td>\n",
       "      <td>9.4</td>\n",
       "    </tr>\n",
       "    <tr>\n",
       "      <th>4</th>\n",
       "      <td>4</td>\n",
       "      <td>Dina</td>\n",
       "      <td>Matthäi</td>\n",
       "      <td>DE24968455090529372560</td>\n",
       "      <td>dina.matthäi@hotmail.de</td>\n",
       "      <td>9.1</td>\n",
       "    </tr>\n",
       "  </tbody>\n",
       "</table>\n",
       "</div>"
      ],
      "text/plain": [
       "   id vorname      nachname                    iban  \\\n",
       "0   0    Curt       Roskoth  DE29557982464763273025   \n",
       "1   1    Till  Klingelhöfer  DE36890407044640624074   \n",
       "2   2    Dora       Winkler  DE26144834913572865717   \n",
       "3   3     Tom        Krause  DE16352804742225738584   \n",
       "4   4    Dina       Matthäi  DE24968455090529372560   \n",
       "\n",
       "                         email  customer_rating  \n",
       "0          curt.roskoth@gmx.de              7.2  \n",
       "1  till.klingelhöfer@gmail.com              8.4  \n",
       "2          dora.winkler@web.de              6.7  \n",
       "3            tom.krause@aol.de              9.4  \n",
       "4      dina.matthäi@hotmail.de              9.1  "
      ]
     },
     "execution_count": 3,
     "metadata": {},
     "output_type": "execute_result"
    }
   ],
   "source": [
    "df.head()"
   ]
  }
 ],
 "metadata": {
  "kernelspec": {
   "display_name": "base",
   "language": "python",
   "name": "python3"
  },
  "language_info": {
   "codemirror_mode": {
    "name": "ipython",
    "version": 3
   },
   "file_extension": ".py",
   "mimetype": "text/x-python",
   "name": "python",
   "nbconvert_exporter": "python",
   "pygments_lexer": "ipython3",
   "version": "3.11.5"
  }
 },
 "nbformat": 4,
 "nbformat_minor": 2
}
