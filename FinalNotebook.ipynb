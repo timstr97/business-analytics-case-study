{
 "cells": [
  {
   "cell_type": "markdown",
   "metadata": {},
   "source": [
    "# Fallstudie der Tablet GmbH"
   ]
  },
  {
   "cell_type": "markdown",
   "metadata": {},
   "source": [
    "## schriftliche Ausarbeitung im Rahmen des Moduls Business Analytics & Coding \n",
    "### vorgelegt von:\n",
    "- Florian Böke\n",
    "- Patrick Lenger\n",
    "- Tim Strulik\n",
    "- Moritz Kulle (Mat. Nr. 1244092)"
   ]
  },
  {
   "cell_type": "markdown",
   "metadata": {},
   "source": [
    "-------------------------------------------------------------------------------------------------------\n",
    "### Gliederung\n",
    "### I. Einleitung\n",
    "1. Vorstellung der Tablet GmbH\n",
    "2. Problemstellung und Zielsetzung\n",
    "### II. Analyse der Daten \n",
    "4. X\n",
    "5. Y\n",
    "6. Z\n",
    "### III. Identfizierte Probleme\n",
    "7. X\n",
    "8. Y\n",
    "9. Z\n",
    "### IV. Handlungsempfehlungen\n",
    "10. X\n",
    "11. Y\n",
    "12. Z\n",
    "-------------------------------------------------------------------------------------------------------\n",
    "\n",
    "\n",
    "\n",
    "\n",
    "\n",
    "\n"
   ]
  },
  {
   "cell_type": "markdown",
   "metadata": {},
   "source": [
    "\n",
    "\n",
    "\n",
    "### I. Einleitung\n",
    "\n",
    "XXXXXXXXXXXXXXXXXXXXXXXXXXXXXXXXXXXXXXXXXXXXXXX\n",
    "\n",
    "#### 1. Vorstellung der Tablet GmbH\n",
    "\n",
    "Das Bielefelder Unternehemen Tablet GmbH wurde im Jahr 2000 gegründet und hat sich auf die Entwicklung von Tablet-PC´s spezialisiert. Die Produkte werden in Deutschland entwickelt und in China produziert.\n",
    "Die Tablet GmbH setzt seinen Fokus auf den deutschen markt und möchte sich dort etablieren. Das Unternehmen führt aktuell drei Produkte:\n",
    "- Tablet Pro, für den professionellen Einsatz mit allen Features.\n",
    "- Tablet Basic, für den Einstieg mit den wichtigsten Features.\n",
    "- Tablet Mini, die kleinere Version vom Tablet Basic.\n",
    "\n",
    "Die unternehmerische Entwicklung war zunächst positiv, da die Produkte im Vergleich zur Konkurrenz viele Vorzüge haben, darunter der Umschaltmodus, bei dem das Tablet in einen elnk-Reader umgewandelt werden kann.\n"
   ]
  },
  {
   "cell_type": "markdown",
   "metadata": {},
   "source": [
    "#### 2. Problemstellung und Zielsetzung\n",
    "\n",
    "Seit 2021 ist die wirtschaftliche Entwicklung der Tablet GmbH nicht mehr so positiv. Um eine weitere negative Entwicklung zu verhindern, stellt die Geschäftsführung Datensätze zur verfügung. Das Ziel der Bearbeitung der Fallstudie ist es, diese Datensätze zu analysieren um potenzielle Probleme zu identifizieren und daraus Handlungsempfehlungen zu erschließen."
   ]
  },
  {
   "cell_type": "markdown",
   "metadata": {},
   "source": [
    "### II. Analyse der Daten\n",
    "\n",
    "..."
   ]
  }
 ],
 "metadata": {
  "interpreter": {
   "hash": "17c3fa9182541bc2a1aa3d9d1e8ee137e345ad12ca7994ef67525e6ed39d0e85"
  },
  "kernelspec": {
   "display_name": "Python 3.11.5 ('base')",
   "language": "python",
   "name": "python3"
  },
  "language_info": {
   "codemirror_mode": {
    "name": "ipython",
    "version": 3
   },
   "file_extension": ".py",
   "mimetype": "text/x-python",
   "name": "python",
   "nbconvert_exporter": "python",
   "pygments_lexer": "ipython3",
   "version": "3.11.5"
  },
  "orig_nbformat": 4
 },
 "nbformat": 4,
 "nbformat_minor": 2
}
